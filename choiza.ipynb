{
 "cells": [
  {
   "cell_type": "code",
   "execution_count": 1,
   "metadata": {},
   "outputs": [
    {
     "name": "stdout",
     "output_type": "stream",
     "text": [
      "18\n",
      "18\n",
      "11\n",
      "11\n",
      "27\n",
      "27\n",
      "17\n",
      "17\n",
      "15\n",
      "15\n"
     ]
    }
   ],
   "source": [
    "from selenium import webdriver\n",
    "from selenium.webdriver.chrome.service import Service\n",
    "from selenium.webdriver.common.by import By\n",
    "from selenium.webdriver.support.select import Select\n",
    "from selenium.webdriver.support.ui import WebDriverWait\n",
    "from selenium.webdriver.support import expected_conditions as EC\n",
    "from selenium.webdriver import ActionChains\n",
    "from bs4 import BeautifulSoup\n",
    "import time\n",
    "import re\n",
    "\n",
    "options = webdriver.ChromeOptions()\n",
    "options.add_experimental_option(\"excludeSwitches\", [\"enable-automation\"])\n",
    "options.add_argument(\"--disable-blink-features=AutomationControlled\")\n",
    "options.add_argument(\"--lang=ko_KR\")\n",
    "\n",
    "service = Service()\n",
    "driver = webdriver.Chrome(service=service, options=options)\n",
    "driver.implicitly_wait(10)\n",
    "driver.maximize_window()\n",
    "\n",
    "wait = WebDriverWait(driver, 10)\n",
    "action = ActionChains(driver)\n",
    "\n",
    "urls = [\n",
    "    # \"https://www.youtube.com/watch?v=jpKAf-y3psg&list=PLWoGc25qzA3tNkDJ6_RQzsTemA4RFcScb\",\n",
    "    # \"https://www.youtube.com/watch?v=bWN3ZIV0BPQ&list=PLWoGc25qzA3vthfzjd7LAS24_A58iIKZv\",\n",
    "    # \"https://www.youtube.com/watch?v=0xAHCaHWbKk&list=PLWoGc25qzA3s__HwGKJphyLl_KZTEwYGS\",\n",
    "    # \"https://www.youtube.com/watch?v=rUFJ62QhMZM&list=PLWoGc25qzA3vAvOy52DJN7vco_jkU0cV2\",\n",
    "    \"https://www.youtube.com/watch?v=dOGpXEOiYH8&list=PLWoGc25qzA3vRoh0umDUCk3FnWjk6IKhF\",\n",
    "    \"https://www.youtube.com/watch?v=MzPvmiSKcj8&list=PLWoGc25qzA3s5wC1AdhHf1LGojWrE8pOa\",\n",
    "    \"https://www.youtube.com/watch?v=pOV-txFfYDE&list=PLWoGc25qzA3uNHuMdjiRyYJVVY-_Yq3TA\",\n",
    "    \"https://www.youtube.com/watch?v=NSuwkeG_ro0&list=PLWoGc25qzA3tSRZKQVLoE7NEcUfQFaMLN\",\n",
    "    \"https://www.youtube.com/watch?v=EFB18WyD1G0&list=PLWoGc25qzA3tAoQ3-7uAt7ZywMAMwbPPK\"\n",
    "]\n",
    "prev_idx = 0\n",
    "datas = list()\n",
    "for url in urls:\n",
    "    driver.get(url)\n",
    "    time.sleep(0.5)\n",
    "\n",
    "    playlists = driver.find_element(\n",
    "        By.XPATH,\n",
    "        \"/html/body/ytd-app/div[1]/ytd-page-manager/ytd-watch-flexy/div[5]/div[2]/div/ytd-playlist-panel-renderer/div/div[3]\",\n",
    "    )\n",
    "    title_elems = playlists.find_elements(By.ID, \"video-title\")\n",
    "    for title in title_elems:\n",
    "        # title = title.text.split(\"|\")[-1]\n",
    "        title = title.text\n",
    "        datas.append([title])\n",
    "\n",
    "    time.sleep(3)\n",
    "    run_time = playlists.find_elements(By.CLASS_NAME, \"badge-shape-wiz__text\")\n",
    "    print(len(run_time))\n",
    "    for i, r_time in enumerate(run_time):\n",
    "        i = i + prev_idx\n",
    "        r_time = r_time.text\n",
    "        datas[i].append(r_time)\n",
    "\n",
    "    link_imgs = playlists.find_elements(By.CSS_SELECTOR, \"img\")\n",
    "    print(len(link_imgs))\n",
    "    for i, link in enumerate(link_imgs):\n",
    "        i = i + prev_idx\n",
    "        action.move_to_element(link).perform()\n",
    "        link.click()\n",
    "\n",
    "        time.sleep(1)\n",
    "        try:\n",
    "            premium = driver.find_element(By.XPATH,'//*[@id=\"dismiss-button\"]/yt-button-shape/button/yt-touch-feedback-shape/div/div[2]')\n",
    "            premium.click()\n",
    "        except Exception as e:\n",
    "            pass\n",
    "        likes = driver.find_element(\n",
    "            By.XPATH,\n",
    "            '//*[@id=\"top-level-buttons-computed\"]/segmented-like-dislike-button-view-model/yt-smartimation/div/div/like-button-view-model/toggle-button-view-model/button-view-model/button/div[2]',\n",
    "        )\n",
    "        likes = likes.text  # 1000 단위는 K 로 나타나 정확한 수치를 알 수 없음\n",
    "        datas[i].append(likes)\n",
    "\n",
    "        expand_button = driver.find_element(By.ID, \"expand\")\n",
    "        expand_button.click()\n",
    "        # 조회수\n",
    "        views = driver.find_element(By.XPATH, '//*[@id=\"info\"]/span[1]')\n",
    "        views = int(re.sub(r\"[가-힣,\\s]\", \"\", views.text))\n",
    "        datas[i].append(views)\n",
    "        # DATETIME\n",
    "        date = driver.find_element(By.XPATH, '//*[@id=\"info\"]/span[3]')\n",
    "        date = re.sub(r\"[가-힣,.:]\", \"\", date.text).strip().split()\n",
    "        for d in date:\n",
    "            datas[i].append(d)\n",
    "        \n",
    "        texts = list()\n",
    "        try:\n",
    "            button = WebDriverWait(driver, 10).until(\n",
    "                EC.element_to_be_clickable(\n",
    "                    (\n",
    "                        By.XPATH,\n",
    "                        '//*[@id=\"primary-button\"]/ytd-button-renderer/yt-button-shape/button',\n",
    "                    )\n",
    "                )\n",
    "            )\n",
    "            action.move_to_element(button).perform()\n",
    "            button.click()\n",
    "\n",
    "            wait.until(EC.presence_of_element_located((By.ID, \"secondary\")))\n",
    "            time.sleep(3)\n",
    "\n",
    "            # 페이지 소스 가져오기\n",
    "            html = driver.page_source\n",
    "            soup = BeautifulSoup(html, \"html.parser\")\n",
    "\n",
    "            # 자막 세그먼트 모두 가져오기\n",
    "            segments = soup.find_all(\n",
    "                \"div\", class_=\"segment style-scope ytd-transcript-segment-renderer\"\n",
    "            )\n",
    "\n",
    "            # 자막 시간과 텍스트 추출\n",
    "            for segment in segments:\n",
    "                text = segment.find(\n",
    "                    \"yt-formatted-string\",\n",
    "                    class_=\"segment-text style-scope ytd-transcript-segment-renderer\",\n",
    "                ).get_text(strip=True)\n",
    "                texts.append(text)\n",
    "\n",
    "        except Exception as e:\n",
    "            texts = list()\n",
    "            pass\n",
    "        datas[i].append(texts)\n",
    "    prev_idx += len(run_time)\n",
    "\n",
    "\n",
    "driver.quit()"
   ]
  },
  {
   "cell_type": "code",
   "execution_count": 2,
   "metadata": {},
   "outputs": [
    {
     "name": "stdout",
     "output_type": "stream",
     "text": [
      "['최자로드5 EP.18 | 미슐랭 빕구르망 3년 연속 선정 돼지고기', '22:25', '2.1천', 257262, '2021', '12', '23', ['뭐 할 수 말씀으로', '뭐 싼타모 좀 약간 이사람 배 한데서', '[음악]', '여기 시장도 있고 올해는 동네', '기도하고 넓게 봤을 때 여기 다', '좋은데 가 되게 많은 도움 해 되시면', '멋집 나오는 동네 여기 재미있지', '[음악]', '으', '어 여기 너무 유명한 집에서 굳이', '나까지 소개도 되나 싶을 정도로', '유명한 집인데 내가 생각할때 서울', '3대 돼지고기 집중의 하나인', '구내식당의 1차', '우리 모두가 제일 많이 먹는게 사실', '삼겹살이 잡아 이 삼겹살은 보기', '자체도 일단 너무 좋고 오래 온도도', '너무 적고 부웅 정도로 너무 좋고 다', '열을 했을 때 쫀쫀 해지면서 기름이', '그대로 있는 스타일이라고 해서 나타', '이번 시집 벌써 만나 가져가게 마지막', '했는데 오늘은 이 카드를 써야 겠다', '싶어 가지고 1 2급 1호 밀려서', '베이스가 마지막에 나온 느낌', '보임이 불렀지', '개구리 자기만의 먹음 에 처음 있거든', '처리는 대시를 좋아합니다 생각하는', '대준이 1대 1 뭐 하는 사람', '맛있는걸 그것만으로 행복한 연말을', '보내는 시기 아니까 연말에 2', '지정되어 있지 않은 것으로 계속', '보기로 또', '페이즈', '[음악]', '안전으로 에러 부족한 부분이 있어도', '마신의 오직 채워줘 예 멋진 아닐 때', '모아 왔어요 더욱이나 3 넉살이 진짜', '맛있어요 옹 상법이 돼지가 좀 다르고', '는 조금 신화의 질감이 싫게 하다고', '애가 이것을 먹어 봐야 돼 실도 좀', '먹고 왔어 그래 또 지금이야 여기어', '안녕하세요 안녕하세요 에 조문 전에', '쿄코는 체크인 먼저 봐야 겠', '네 부모는 어떻게 될까요 일단 저희', '산격 뜨게 추석에 생각들이 1에는', '아시 거리는게 자 그냥 마실 버리는', '요 또 소주 전 200조 4 적용', '소외 괜찮으세요 연말에 남자들이', '소리라도 성능 게 에 저희 엄마', '수업에서 뽑을 때 앞에 진로 사랑 그', '다음에 페라리 오세요', '뭐 어때 셔서', '절 그냥 오로라 요건은 공연을 하였고', '국정원 망하고 나가 뭐 야 무지하고', '이쪽에도 만들 거 아니에요 부족', '저희끼리 이제 하는게 되게 경우', '같잖아요 형들이랑 같이 할 때 이제', '도와주던 힘 드린', '저희가 해야 될게 많이 들어가서 조금', '박스입니다 4 회사의 역할도 본인', '셋이 나눠 사회 되니까 집을 1 숫자', '걸까', '미래가 필요해 는 나오고 되게 잘', '되신 삶이 였거든요 아 빠 토시 면서', '좀비 운이 안좋아 찍었고 난 입히고', '가지마 지금 언제 다시 우리가 공연할', '수 있을지 모르겠는데', '우리가 감당할 수 있을까 이런 도우미', '밖에서 아끼고 아끼고 근데 지금 딘의', '이게 정상화 되기 전에 미리 이렇게', 'g7 논리 풀고 정책 리그 현실이고', '겨울을 나야 된다 우리가 쏘맥 먼저', '씩 드릴께요', '그냥 돼지가 내가 이렇게 악 영상이라', '아 이거', '으', 'wer', '[음악]', '아', 'esl', 'peter', 'n 정면', '크리스마스 개나 주라고 해', '돼지 기회는 먹는게 최고야', '[음악]', '아 정말 영광입니다 하세요 아 x', '오랜만에 보고 싶어 너무 좋다 하는데', '나는 너를 되게 아끼는 카드 없거든', '보이면 진짜진짜 위성 더 콜러 이제는', '베풀어 같아서 밀링 밀려 가지구 비례', '오늘의 요 연말 크리스마스 트리를', '먹느라고 정신이 없어 예', '[음악]', '아', 'dj 와 바 3팩', '으', '[음악]', '으', 'you', '삼겹살이 4 갈비 빼온 차이는', '산객들이 다 그래서 개념을 본상', '되더라도 이름 졌구요', '아 어제 어머니가 조심은 리지 1컵을', '뒤에 맛있겠네요 얘기야', '[음악]', '4 무장을 철저히 얻은 확정이 되면', '꽤 임팩', '[음악]', '아 너무 먼 또 예 예 아 예', '4', '음', '언어 이것이', '말씀해 주신 어빠 소프 이제 비로', '내용 바위 어깨는 바랄 수도 있 거니', '네 안에 지방 친구든 말랑말랑 점', '어떤 살아있고 물고기 탈모는', '전자 그냥 위탁에 여긴 하기 실패 1', '느낌의 뭔지 알겠어요', '이름을 정말 기분 좋게 바꿀 수 있는', '이런 느낌이 오래 당했습니다', '제주도에 가면', '자 이제 쓰리게 경험 가능하더라구요', '너희 4가지 없어 중요한 된', '기용이 풍부한 고개 하고 젓갈 지적은', '굉장 다음에 보자', '으 에 책임의 우리의 진짜 뭐 쏘쏘', '[음악]', '뭐 말씀', '예', '너는 어때 너 거랑 지금은 이제 말씀', '같아요 어는 지금까지는 소스 조금', '단백 타미 더해지는 것 같아요 좀', '길게 작업할 절이라 그런데 너는', '공부하러 가는데 묻기에 타 양을', '조절하지 았소', '[음악]', '이제 우리가 저 선사가 이런게 그', '수용으로 여자 나쁜 거야 지금', '크리스마스 몇 개 있든 우린 우리', '둘만 있으면 돼 발생 해 줄 수', '있으니까', '싼 타우 좋을 클래스 쌘 삼겹살을', '주세요', '예 이게 양말이 고 예 선물이에요', '그래야 제일 좋아해서 물들어 있네 아', '아 아 으 으', 'once', '[음악]', '[박수]', '예', '디퀘 3 없고', '아니 어쩜 이렇게 수밖에 어찌 우리가', '되게 빈곤한 상태지만 같은 이방 반품', '과정들 거의 망한 후에 워즈', '투약을 가 되겠습니다', '트라이 부터는 설득이 바뀔까', '내가 이제 갈리 쌀 고 따뜻한 쌀', '이라고 동전의 유통이 목 금 갈비', '떡갈비 라고 보시면 되요', '그쵸 이제 보통 이렇게 갈비로 이렇게', '잡고 뜯는 스타일 없네요 가위로 다', '해주니까 해야 돼', '삼각산 안에 9초 있는 이유 경험', '까고 자세를 진짜 설명할 수 있습니다', '지옥 느낌이 달라 노출이', '[음악]', '대표 왜', '거의 반 후에 워즈', '[음악]', '그래서 예를 다 먹기전에 봅니다 미리', '좀 시켜야 될 것 입니다', '뭐 박근혜 맞다고', '아 그게 당 하셨고 재개를 그 함께', '라는 것도 나쁘지 않아요 예 그 쪽엔', '거야 으', '2', '* 다 되신 것 요거 가정을 사라질', '겁니다', '아 에 좋은 음식 m 어서 잡담을', '나누고', '이게 명절이 g', '육식의 좋겠구요 5와 하면서 굉장히', '전통 power', '[음악]', '오오오 오오오', '아주 좋은거 같아요', '[음악]', '우리 엄청 이고 돌아오는데', '김치찌개는 판례 깔끔하게 떨어지는', '이렇게 마차 처럼 실제 세계 같은', '경우에는 돼지고기 가지고 있는 그', '지방 김치 어떤 신발 그 주변에', '합쳐지면서 나는 그 학문이 가입 시', '장', '한 장의 사진과 생각되고 oldest', '한번 마셔보세요', '[음악]', '아까 2 나왔나요', '기뢰가', '음', '으', '으', '쌀의 마블링이 눈꽃처럼 너무나 잘해', '가지고 이름을 한번 못하겠지', '목살이', '이렇게 마구 넣으 쉽지 나', '4', 'we', '5 공연 소매 살짝', '[음악]', '아 그냥', 'wee', '음', '썼다 고 묻자 뭐 해 왔어 또 눈이', '오고 있지 않지만 넘고 모사드 일대', '2배 주문이 온다 한번 눈이 내리고', '있어요 지금 입안에서 의료는 육적인', '1기 있어요 지금', '몰디브 도안 전에 이렇게 볼 수', '있겠지만 실제로 마시다가 그는 특히', '뭐 쌀을 너희 단거 가지고 해를 잘', '느끼고 어떻게 i4 탄거 받을 가지고', '먹으면', '아 아 아', '으 어 감성적이다', '[음악]', '아예 물 찾 일은 너무 좋아 아 진짜', '좋은 안이 잘 수 있 멋있는 걸', '기반해 맞으니까', '올립니다', '이 정도 걸린거 리가', '이빨로 1 번역할 때 중 쫙 나옵니다', '헌법학 맥그리거 없고 또 우리 진짜', '줘야', '우리끼리 먹는게 준비한 양님', '내꺼도 부르고 싶고 저번에 한번 초', '앞이 나올 땐 같이 사랑 그 늦은 퍼', '애들도 생각을 했는데 좋은지 오면은', '더 많이 해 보실까요 예', '단 새롭게 이런 저의 수원 사업이', '기부하고 계시적인 얘기 신던 또한', '120 너는 여기 진행에 나왔어요 제', '할 때 때', '[음악]', '얘는 이제 증시 밀항 목사 사이엔 한', '사례다 그래서 이름을 통해 짝을 지어', '던데', '[음악]', '지방 이노베이 골에 턱이 발병하게', '한양 부위가 금방이라고 자신감 전격', '한국의 갇혀 있어요 그래서 아 삭감', '사랑할 수 있으니 꽤 맛있었고', '[음악]', 'eie 아님', '알콜 기분이 좀 있다보니까', '돼지 보존을 냄새도 점검하고', '비쥬얼로 밥스 쨈과 입에 넣었을 때', '좀 더 도톰한 느낌 보통 한 그리고', '우리의 길 맞아 좀 시청할 때 점 아', '돼지는 기름은 마시는 게 아니에요 즉', '느끼게 됐고 4', '저희 살코기 부분에도', '나의 어떤 개선이 까 으 어 연금술사', '40화 져요 이 작품에서 맡아 주인공', '살고자 합니다', '[음악]', '으', '아', '[음악]', '이건 이걸 어찌 잘 어울리는 거죠', '뭐 아까 먹겠지 사람 번도', '[음악]', '베이의 확실히 목사를 먹으니까 그리고', '나온 거야', '이거 뭐 아주', '류아 워요', '약간 윤건 목사 같은 경우에는 직원과', '살의 기운이', '밸런스가 되게 좋게 오늘 이 밤이', '너무 좋네요', '그리고 주목해 같은 경우에는 8 코기', '비중이 좀더 어릴때 3 될 때 먹어도', '5월 쌓인 부분은 저는 누구 뵙죠', '편인데 큰 여기서 해 줘 예 처음', '이렇게 딱 매 순간 바로', '요구했던 것은 사실 그 쪽 얘기했어요', '그랬다 사실은 원저 3일 쌀을 넣어', '싸 얘기해요 우리는 그 효 쌀을 좀', '먹게 여유를 코팅하고 아끼 이름을', '매치 즐기고 그 다음 에서 밸런스가', '저거 보니까 좀 전 오시는 들려고', '나와줘 가줍니다', '[음악]', '4 더 연마에 개업해 수', '그렇죠 뭐 없어요', '은근 이용 그런거 있잖아요 엄 말이', '너무 쎄 쎄 쎄 쎄 쎄 쎄 쎄 쎄 쎄', '쎄 쎄 쎄 쎄 쎄 쎄 쎄 쎄 쎄 쎄', '쎄 쎄 쎄 쎄 쎄 쎄 쎄 쎄 나', '한해를 반성하게 되는', '우리는', '남들 놀때 아빠야', '이게 강연하고 그래야 우리의 심산으로', '사무라이 느껴지는데 나무도 놀때 같이', '오니까 으', '시절 말씀도 있고 나갈려고 하자', '너가 내년으로 갈고 8 겠어요', '개인적으로 좀 준비하는 야 앨범이', '거장 펄 쏘겠습니다 뭐 어쩌다 부탁할', '있을 것 같아요 거의', '지금의 제 삶에 대해서 좀 노래라는', '것은 장미 4 보아도 하고 있던', '부분을 준비하고 아지오 아이로 만', '넣어 지 오래인 것하고 좀 더 있죠', '내년 3만원 볼 때 쯤이면 자주 가', '나왔으면 좋겠다고 하면 빨리 하고', '있어 개발하고 내어준 바 시작해 볼까', '했는데 그냥 아는 것이 옷에 스판이', '5 전략성이 한샘 다르죠 에 자주', '듣고 절절한 생각합니다', '노즐 게르', '3일째 팩트 때에 올려드릴께요', '[음악]', '4 사용하는 - 는 배쪽에 인 6대', '지났어요 버리기 때문에 상당히', '부드럽고 꼭', '[음악]', '아 통로로서 마늘 간장 썼구요', '번역 좀', 'my', 'deer', '장부가 구입할 수가 뭐 해 줬어', '아 네', '커피랑', '몽땅 20 빠져든 좀 하셔야 예', '아야를 빨리 발 더 약이 도마 합니다', '야 근데', '이번 적으로 양양 존대 그지만 찍어', '먹어도 맛있네요', '[음악]', '으 으 진짜 초 봤군요', '7가지 수세 더할 것이 글 안쪽으로', '그냥 널 감상하는 거야 껍데기만 으로', '주안 중에 제 3경 하게 돼요 하시오', '자신은 원래 손 짜리에 마무리 곳에', '껍데기 더 야기합니다', '우리의 물어볼까 있어야 돼', '갱지 뭐예요 4', '초보의 퍼가셔서', '오늘 그럴까 아니면 그냥 신고 없애기', '나오고 해야죠 으', '체리 까만 다 뜨거운 공연이 팍 자주', '놓친 돈을 사항은 없다 그 텅 이탈', '쑥 쑥 크리스 박 정신이 아 이게', 'plot 며 먹고 있는데 그보다', '보정에 뭐가 있니 줘서', '퇴 자로 든 어디서 잘 모르겠으나', '언어 과정이니까 5 늦은 지를 생각', '쉴 컨 데 이 건강한 헤어 것도 에게', '케어 서도 및 은행 독립의 처럼', '얘기를 버려라 끼우게 루피 셀 안에', '괴물로 콥 쏟 인데', '이것이 에서 특별히', '최근 아내가 많이 가는데 위주로 찾아', '같잖아 그녀는 호 다시 이기도 하기', '내 마음속 되게 좋아하는 사람은', '식당들이 만나지 않았으면 좋겠다는', '마음으로 좀 힘을 실어 주기 위해서', '그렇게 진행을 했는데', '두고 저 조금 된거 같더라구요 뭐', '3000 저자도 뭐 소름 어때 매출이', '살짝 떨어졌으나 봤는데 지금 매출도', '원래 로 돌아왔다 이런 얘기 들었어요', '문좀', '뭐 장 오고 있지 사장님은 어느 하늘', '맞이한다고 만난 내게 제지로 수동', '뿌리면 잡고 리그', '개가 살면 003 원래는 연령층이 좀', '있었는데 어린 친구들이 와가지고 즘', '호 게임을 하고 있다 봐요 네 그런', '얘기들을 때만 언급에서 두면 좋고 또', '마음이 에 되게 놓이고 라이벌 씨는', '이렇게 하게 잘할 것 같아 생각했구요', '[음악]', '힘', '현대로 엄청난 봤다고 그래서 야베스', '보곤 이건 댓글을 그 중에는 재미있는', '개최', '뭐 첨부 원대 이한테 보고 바로 구독', '받는가 이 한 편의 맘에 들었으면', '대체적으로 무조건 구독 봐도 괜찮을', '거라고 보는 게 털 없고 밥을 먹어도', '괜찮고 펴 놓고 술을 먹어 되겠습니까', '대체적 혼수 란 친구들이 가 엄청', '많이 본다 그러더라고 그런 9 되고', '만 것 같애 아 초반부터 안녕 우리', '돼지 드렸는데 반박할 수가 없네', '제시 다녀 보고 있는건 되죠', '어 이거 좀 어김없이 는데 먹고', '싶을때마다 따서 oc 개의 끔 씨앗의', '사다 딱 마당에 뿌린 최자 3 승', '당신은 진짜 돼지 들의 교과서 라고', '봐', '아니 대들의 수학의 정석 같애 부과', '뭐 알찬 이지만 그렇다면 기분좋은', '보기가 사람으로 칭찬 뭐고 드리며', '느낌조차 날 좋네', '대 정도 부르고 말지', '이거 진짜 제재 되면 공감한', '표현이라고 봐 배운 게 뭐 돈이', '없거나', '품절이 될 거야 그게 제일 크고 된', '거야 자연이 먹는 모습과 표현이 더', '덱 세대별 되었다고 봐 18회 문학', '소년이라고 봐', '소년 아니고 문학 제 3 정도', '베일 세끼 까지 더한 것 또는 찾아와', '있을거임 앞에 오겠 xp 여러번', '라는 게 솔직히 내가 앤 것도 재미', '있겠지만 테이큰 2 뭐 재미는 뭐', '댓글중에 보면 정말 진정한 txt', '어들은 쇼타 있게 남겨준 회사들 중에', '있지 않나 진짜 깜짝 깜짝 놀래 이런', '특징은 너무 좋은거 뜨고', '이쯤되면 최 전 원래 직업이 미식가', '이지 평론가 이제 체제로 뒤 터보', '인지가 지었는지 기억의 한 분 들', '거야 아 백호 용 가라사대 처자', '로드를 위해 쇼미 더 머리를 포겟', '[음악]', '라는 어색한 엘모 그때 번호가 수', '웹쉘 cb 하고 있고 음악도 열심히', '한 잔 20년 했거든 그거를 계속', '지속적으로 하기 위해선 나도 대회가', '에너지로 비축해 되지가 생각이 계속', '그럴 때 되게 좋은게 먹는 거야', '돼지들은 뭐 가진 하거든요', '그래도 맛있게 먹고 예쁘게 찍고 그', '위 얼마 좋아 그게 내 인생의 너는', '되게 제공 시간일 수도 있고요', '외국에서 많다 며 액션 벌스 그렇고', '다 자기 먹는 거 되게 멋있게 보여', '주고 우리 활동도 열심히 하는데 뭐', '이런걸 좀 더 한다고 내가 갑자기', '그냥 뭐 돼지 로 바꿔서 먹기 만', '하겠다 이런 건 아니라고 말할 수', '있겠습니까 라는', '행복하면 돼 있다고 봐', '청전 한국 모선 딜 통제 직접', '슬러지를 이렇게 섹시', '여기서 바쁜 힘이 들어 있더군요', '세월이 없어지고 있어', '와 시점이 있는것 같은데', '텃밭 아기 성큼 반향 나온 봐줌 동안', '그 거니 어지간히 맛있는 집이라고', '이게 우리 아들 때 힘든 과제당 1', '평화 중인 최대 라 아니게 내보내지', '않을 노력을 하고도 그리고 나온 것은', '먹는데 너무 집중 해가지고', '회의 자동 좀 나오는 거야 예 조금만', '나갔고', '마시는것 본 이래 침이 보이는 것처럼', '나는 한 방울도 흘리지 쉽지 않고', '어디 딴데 묻히기 있지 않을까 이게', '먼저 도마 주고 나가지고 않아 감', '거야 정말 은연중에 한거니까', '더 이쁘게 서 를', '매도록 할게 아침에 조절이 피해야', '된다 면서 소재를 시키는 찾아 용할', '수 있는 초심을 잃지 않는 카고', '거하실 재미있었다 슬램 3 어분', '하는데 진짜 크게 너무 줘 영상에서', '술 냄새가 풍기는 거 아냐 내가', '원했던 그런것 같애 맛있는 음식보다', '셀 을 즐기는 모습을 보고', '뭐 조금 식욕이 돌 고아 정식', '먹어보고 싶단 마음이 들고 가서 먹어', '보면서 어 회장은 이렇게 생각 그렇게', '먹었네 나는 이런 느낌인 것 같아요', '근데 이런 걸 느낄 수 있게 해주면', '너무 좋은거 같다는 생각이 들어도', '이거 너무 좋은 게 됩니다 예', '으', '아 뭐 태조 미안하다 생각하면', '그래도 이제 몸은 약간 힘들었을지', '뭐라도 전기는 베개가 있어서 또', '체제로 시즌 2 즉 목표가 되니까', '다음시즌 때까지는 애가 좀 지금 풀리', '안보면 그리고 무좀 만들어가지고 남신', '열심 도달할 수 있도록 준비를 해 형', '방법을 좀 그렇다 음식점 방 소중한', '걸 요즘 구독과 저런 다아라 열려 그', '껑 산전수전 다 겪은 낮에 툴은 뭐', '난 음용 해명 아닌 해명을 인데 뭐', '언제나 되게 중요한 위치를 찾은', '부분이다 보니까 정말 여러분들 다', '집어 든 자동 말소자 기사', '단골이 한테 되게 잘 해주셔야 동천', '수는 없잖아 그리고 진짜로 더', '인간적인 충분히 너무 심하게 생긴', '친구들 같은 경우는 나한테는 하나의', '배려가 생기고 기준 이들이 높아지게', '되어 있어서 오히려 불공정한 평가를', '받고 있다는 생각이 들 좀 넣어서 그', '오해를 부자 할게 없어 지금 시작 더', '있었던 광고를 하지 않고 살 빼야', '되는데 한 적이 없어 철칙이 최대한', '전과 를 내가 p', '우리는 어디가서 괴롭고 다니진 않는다', '다음에', '[음악]', '그리고 뭐 보면 이 진로 협찬 이렇게', '광무 좀 고만 에 대해서 얘기도', '봤는데 음 지금 최대 보드란 콘텐츠가', '사실', '화면에 싶어 티쏘 4 군 어원 쓰레드', '풀과 있습니다 제가 이 큰 경우', '사용하고 있는 거고 그래서 내', '생각에는 진로는', '옆에서 게 좋은 친구처럼', '약어 가지고 있죠', '그 특별히 마이런 음식을 먹어 주세요', '다 우리 최소로 이 도로를 달리게', '하는데 있어서 되게 좋은 연료가 됐기', '때문에 지금도 대해 감사하고 있구요', '뒤지니 프로그램 진행한 데선 안 되게', '편한 파워 하드 모드 하고 제일 잘', '어울리는데 새 하지만 곧 하구요', '또 비판도 좋은 에너지가 되게 어떻게', '보면 비판을 드리면 사랑 달려오는', '누구도 있지만 최저로 데 큰 에너지는', '및 왜 집에 대해 칭찬 아닌거', '같았어요 그렇죠 2호 시즌 2 넓힐', '함께해준 돼지들 넋놓고', '라는 이거 시즌 2 끝났으니까 잠깐은', '지그 조금 타미야', '사람을 놀릴 거야', '지속가능한 되기 3 g 가 되기', '위해서 할 수도 정상화를 찾아올', '테니까 너무 무책임하게 부터 반고', '나는 삶을 살지 말고 더 맛있는것', '먹기 위해서 준비하는 삶을 하더니 쭉', '다음 식을 다시 만났을 때부터 관리는', '거겠지', '안뇽', '넓긴 계속 지켜 20대 다 바쳐 놔', '있어면 온 절도범 아 걔 모두', '[음악]']]\n"
     ]
    }
   ],
   "source": [
    "print(datas[0])"
   ]
  },
  {
   "cell_type": "code",
   "execution_count": 3,
   "metadata": {},
   "outputs": [
    {
     "name": "stdout",
     "output_type": "stream",
     "text": [
      "88\n"
     ]
    }
   ],
   "source": [
    "print(len(datas))"
   ]
  },
  {
   "cell_type": "code",
   "execution_count": 4,
   "metadata": {},
   "outputs": [
    {
     "name": "stdout",
     "output_type": "stream",
     "text": [
      "                                                title run_time likes   views  \\\n",
      "83  통닭에 마라와 가쓰오부시를 끼얹나? 장작구이 통닭의 리믹스Ver. (ft. 코카-콜...    30:18   672  676100   \n",
      "84  잡는 순간 올라! 멕시코 정통 타코에 코카-콜라 페어링 (w/개코, pH-1, JU...    32:35   710  604886   \n",
      "85  믿었던 돼지의 뒤통수. 이 맛을 지금 알아 억울한 김해 뒷통수육(w/맛타고라스) |...    31:42   802  311168   \n",
      "86  콧등부터 꼬리까지. 몰래 빼먹던 김해뒷고기의 전국구 선언 (w/맛타고라스) | 최자...    29:11   924  378677   \n",
      "87                      어센틱한 맛을 찾아 떠나는 혓바닥 여행 | 최자로드9     1:17   257   14133   \n",
      "\n",
      "    year month day                                             script  \n",
      "83  2024     6   6  [와이프도 음식을 엄청 좋아해 약간 제 와이프가 여자자 같이, 만나면 계속 먹는, ...  \n",
      "84  2024     5  30  [그럼 보통 몇 타코 정도해 한번 먹을 때요 정도 맛에요 정도 크기면 한 다섯 개 ...  \n",
      "85  2024     5  23  [우리의 일주일은 월 봤수 모 금금금 가득 사이 너무 때문에 실 틈 틈틈 없어졌어 ...  \n",
      "86  2024     5  16  [[음악], 여행에 즐거운 점은 언제나 그렇듯이, 새로운 데를 가보고 새로운 걸, ...  \n",
      "87  2024     5   9  [[박수], 시즌 나 기다리고, 계셨나요, 우 휴식기가, 필요한게 다시 카메라 켜도...  \n"
     ]
    }
   ],
   "source": [
    "import pandas as pd\n",
    "\n",
    "df = pd.DataFrame(\n",
    "    datas,\n",
    "    columns=[\"title\", \"run_time\", \"likes\", \"views\", \"year\", \"month\", \"day\", \"script\"],\n",
    ")\n",
    "print(df.tail(5))"
   ]
  },
  {
   "cell_type": "code",
   "execution_count": 9,
   "metadata": {},
   "outputs": [],
   "source": [
    "# SAVE\n",
    "df.to_csv('result3.csv',index=False)"
   ]
  },
  {
   "cell_type": "code",
   "execution_count": 10,
   "metadata": {},
   "outputs": [],
   "source": [
    "df1 = pd.read_csv('result.csv')\n",
    "df2 = pd.read_csv('result2.csv')\n",
    "df3 = pd.read_csv('result3.csv')"
   ]
  },
  {
   "cell_type": "code",
   "execution_count": 16,
   "metadata": {},
   "outputs": [
    {
     "name": "stdout",
     "output_type": "stream",
     "text": [
      "                                                 title run_time likes  \\\n",
      "286     평양냉면 인플레 시대. 만원으로 즐기는 56년 전통의 맛 | 최자로드9 EP. 09    23:50  1.2천   \n",
      "287  좌시경 우최자 | 한 여름 낮의 중식과 고량주... 너흰 감동이었어! w/@sung...    38:39  6.5천   \n",
      "288  \"오늘 준비한 고기 태우는 육식맨부터 보시죠\" 폼 미친 삼겹살과 정성 넘치는 반찬 ...    31:09  1.1천   \n",
      "289  [라면꼰대 X 최자로드] \"드디어 만났습니다\" 마파두부, 나폴리탄으로 발우공양 | ...    35:11  2.5천   \n",
      "290  막창순대 업고 튀어! 돈설 수육까지 완벽한 덕질유발 순대덕후의 집(w/김재환, Pa...    33:21  1.3천   \n",
      "291  통닭에 마라와 가쓰오부시를 끼얹나? 장작구이 통닭의 리믹스Ver. (ft. 코카-콜...    30:18   672   \n",
      "292  잡는 순간 올라! 멕시코 정통 타코에 코카-콜라 페어링 (w/개코, pH-1, JU...    32:35   710   \n",
      "293  믿었던 돼지의 뒤통수. 이 맛을 지금 알아 억울한 김해 뒷통수육(w/맛타고라스) |...    31:42   802   \n",
      "294  콧등부터 꼬리까지. 몰래 빼먹던 김해뒷고기의 전국구 선언 (w/맛타고라스) | 최자...    29:11   924   \n",
      "295                      어센틱한 맛을 찾아 떠나는 혓바닥 여행 | 최자로드9     1:17   257   \n",
      "\n",
      "        views    year  month   day  \\\n",
      "286  311205.0  2024.0    8.0   8.0   \n",
      "287  837965.0  2024.0    7.0   4.0   \n",
      "288  362006.0  2024.0    6.0  27.0   \n",
      "289  408005.0  2024.0    6.0  20.0   \n",
      "290  254903.0  2024.0    6.0  13.0   \n",
      "291  676100.0  2024.0    6.0   6.0   \n",
      "292  604886.0  2024.0    5.0  30.0   \n",
      "293  311168.0  2024.0    5.0  23.0   \n",
      "294  378677.0  2024.0    5.0  16.0   \n",
      "295   14133.0  2024.0    5.0   9.0   \n",
      "\n",
      "                                                script  \n",
      "286  ['이제 고기 육수에 시한 동심 공부를', '섞어 가지고 슴슴함 빠져들다 보니까',...  \n",
      "287  ['성식경 형도 술 너무 많이 먹더라 와 무슨 일이', '일어날거다 난 솔직히 뭐 ...  \n",
      "288  ['유튜브 세계에서 고기 왕이지 왕 고기 대통령 0년 처음 뒤집을 때 마이아를', ...  \n",
      "289  ['난 최자 로드를 보면서 항상 그랬거든 하들 왜 이렇게 입이 짧아 일단 이걸 시키...  \n",
      "290  ['안녕 나 가고 최자 선배야 배고프지 맛있는 거 먹으라', '할까 어 여기 딱 보...  \n",
      "291  ['와이프도 음식을 엄청 좋아해 약간 제 와이프가 여자자 같이', '만나면 계속 먹...  \n",
      "292  ['그럼 보통 몇 타코 정도해 한번 먹을 때요 정도 맛에요 정도 크기면 한 다섯 개...  \n",
      "293  ['우리의 일주일은 월 봤수 모 금금금 가득 사이 너무 때문에 실 틈 틈틈 없어졌어...  \n",
      "294  ['[음악]', '여행에 즐거운 점은 언제나 그렇듯이', '새로운 데를 가보고 새로...  \n",
      "295  ['[박수]', '시즌 나 기다리고', '계셨나요', '우 휴식기가', '필요한게 ...  \n"
     ]
    }
   ],
   "source": [
    "df_fin = pd.concat([df1,df2,df3],ignore_index=True)\n",
    "print(df_fin.tail(10))"
   ]
  },
  {
   "cell_type": "code",
   "execution_count": 18,
   "metadata": {},
   "outputs": [],
   "source": [
    "df_fin.to_csv('final_.csv',index=False)"
   ]
  },
  {
   "cell_type": "code",
   "execution_count": 20,
   "metadata": {},
   "outputs": [
    {
     "name": "stdout",
     "output_type": "stream",
     "text": [
      "Index(['content_name', 'chennel', 'local', 'restaurant_type', 'guest_info',\n",
      "       'food_scenes', 'eating_scenes', 'drinking_scene',\n",
      "       'restaurant_info_scene', 'conversation_scene'],\n",
      "      dtype='object')\n"
     ]
    }
   ],
   "source": [
    "df1 = pd.read_csv('final_.csv')\n",
    "df2 = pd.read_csv('final.csv')\n",
    "df2.drop(columns=['comments_number','upload_date', 'likes_number', 'running_time', 'script', 'views_number','minmax_views'],inplace=True)\n",
    "print(df2.columns)"
   ]
  },
  {
   "cell_type": "code",
   "execution_count": 21,
   "metadata": {},
   "outputs": [
    {
     "name": "stdout",
     "output_type": "stream",
     "text": [
      "Index(['title', 'run_time', 'likes', 'views', 'year', 'month', 'day', 'script',\n",
      "       'content_name', 'chennel', 'local', 'restaurant_type', 'guest_info',\n",
      "       'food_scenes', 'eating_scenes', 'drinking_scene',\n",
      "       'restaurant_info_scene', 'conversation_scene'],\n",
      "      dtype='object')\n",
      "240\n"
     ]
    }
   ],
   "source": [
    "df = pd.merge(df1,df2,left_on='title',right_on='content_name')"
   ]
  },
  {
   "cell_type": "code",
   "execution_count": 26,
   "metadata": {},
   "outputs": [
    {
     "name": "stdout",
     "output_type": "stream",
     "text": [
      "                           title run_time likes      views    year  month  \\\n",
      "0       [sub] 성시경의 먹을텐데 l 부산 만우장    24:17  1.2만  1040907.0  2024.0    8.0   \n",
      "1     [sub] 성시경의 먹을텐데 l 부산 해진아나고    27:33    1만   712699.0  2024.0    8.0   \n",
      "2  [sub] 성시경의 먹을텐데 l 속초 화진호 이선장네    34:42  1.5만  1029494.0  2024.0    8.0   \n",
      "\n",
      "    day                                             script  chennel   local  \\\n",
      "0  30.0  [\"[SUNG SI KYUNG's Grab a Bite]\", 'Okay, for t...      0.0  부산 수영구   \n",
      "1  26.0  [\"[The audio quality isn't great due to losing...      0.0  부산 수영구   \n",
      "2  21.0  [\"[SUNG SI KYUNG's Grab a Bite] Oh, my voice. ...      0.0  강원 속초시   \n",
      "\n",
      "  restaurant_type guest_info  food_scenes  eating_scenes  drinking_scene  \\\n",
      "0              중식         없음          1.0            0.0             0.0   \n",
      "1           고기·구이         없음          0.0            0.0             1.0   \n",
      "2              한식         없음          1.0            0.0             0.0   \n",
      "\n",
      "   restaurant_info_scene  conversation_scene  \n",
      "0                    0.0                 0.0  \n",
      "1                    0.0                 0.0  \n",
      "2                    0.0                 0.0  \n"
     ]
    }
   ],
   "source": [
    "df.drop(columns=['content_name'],inplace=True)\n",
    "print(df.head(3))\n",
    "df.to_csv('data.csv',index=False)"
   ]
  }
 ],
 "metadata": {
  "kernelspec": {
   "display_name": "tensorflow",
   "language": "python",
   "name": "python3"
  },
  "language_info": {
   "codemirror_mode": {
    "name": "ipython",
    "version": 3
   },
   "file_extension": ".py",
   "mimetype": "text/x-python",
   "name": "python",
   "nbconvert_exporter": "python",
   "pygments_lexer": "ipython3",
   "version": "3.11.9"
  }
 },
 "nbformat": 4,
 "nbformat_minor": 2
}
