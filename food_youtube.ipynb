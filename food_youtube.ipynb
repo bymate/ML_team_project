{
 "cells": [
  {
   "cell_type": "code",
   "execution_count": 1,
   "metadata": {},
   "outputs": [
    {
     "name": "stdout",
     "output_type": "stream",
     "text": [
      "<class 'pandas.core.frame.DataFrame'>\n",
      "RangeIndex: 240 entries, 0 to 239\n",
      "Data columns (total 17 columns):\n",
      " #   Column                 Non-Null Count  Dtype  \n",
      "---  ------                 --------------  -----  \n",
      " 0   title                  240 non-null    object \n",
      " 1   likes                  240 non-null    object \n",
      " 2   views                  240 non-null    float64\n",
      " 3   year                   240 non-null    float64\n",
      " 4   month                  240 non-null    float64\n",
      " 5   day                    240 non-null    float64\n",
      " 6   script                 235 non-null    object \n",
      " 7   chennel                240 non-null    float64\n",
      " 8   local                  240 non-null    object \n",
      " 9   restaurant_type        240 non-null    object \n",
      " 10  guest_info             240 non-null    object \n",
      " 11  food_scenes            240 non-null    float64\n",
      " 12  eating_scenes          238 non-null    float64\n",
      " 13  drinking_scene         240 non-null    float64\n",
      " 14  restaurant_info_scene  239 non-null    float64\n",
      " 15  conversation_scene     240 non-null    float64\n",
      " 16  run_time               240 non-null    object \n",
      "dtypes: float64(10), object(7)\n",
      "memory usage: 32.0+ KB\n",
      "None\n"
     ]
    }
   ],
   "source": [
    "import pandas as pd\n",
    "\n",
    "data = pd.read_csv('datas.csv')\n",
    "print(data.info())"
   ]
  },
  {
   "cell_type": "code",
   "execution_count": 2,
   "metadata": {},
   "outputs": [
    {
     "name": "stdout",
     "output_type": "stream",
     "text": [
      "0      12000\n",
      "1      10000\n",
      "2      15000\n",
      "3      10000\n",
      "4       6900\n",
      "       ...  \n",
      "235     1300\n",
      "236      672\n",
      "237      710\n",
      "238      802\n",
      "239      924\n",
      "Name: likes, Length: 240, dtype: int64\n"
     ]
    }
   ],
   "source": [
    "# like 를 int 로 수정\n",
    "def str_to_int(x):\n",
    "    x = str(x).replace('만','0000').replace('천','000')\n",
    "    if \".\" in x:\n",
    "        x = x[:-1].replace('.','')\n",
    "    x = x if x != 'NaN' else 0\n",
    "    return int(x)\n",
    "\n",
    "def like_to_count(data):\n",
    "    data['likes'] = data['likes'].fillna(0).apply(str_to_int)\n",
    "    return data\n",
    "\n",
    "data = like_to_count(data)\n",
    "print(data['likes'])"
   ]
  },
  {
   "cell_type": "code",
   "execution_count": 3,
   "metadata": {},
   "outputs": [
    {
     "name": "stdout",
     "output_type": "stream",
     "text": [
      "0      1457\n",
      "1      1653\n",
      "2      2082\n",
      "3      2089\n",
      "4      1631\n",
      "       ... \n",
      "235    2001\n",
      "236    1818\n",
      "237    1955\n",
      "238    1902\n",
      "239    1751\n",
      "Name: run_time, Length: 240, dtype: int64\n"
     ]
    }
   ],
   "source": [
    "# 영상 시간 int 변환\n",
    "def to_sec(x):\n",
    "    time = x.split(\":\")\n",
    "    sec = (int(time[1]) if len(time) > 1 else 0) + (int(time[0]) * 60 if len(time) > 1 else int(time[0]))\n",
    "    return int(sec)\n",
    "\n",
    "def time_to_sec(data):\n",
    "    data['run_time'] = data['run_time'].fillna('0').apply(to_sec)\n",
    "    return data\n",
    "\n",
    "data = time_to_sec(data)\n",
    "print(data['run_time'])"
   ]
  },
  {
   "cell_type": "code",
   "execution_count": 4,
   "metadata": {},
   "outputs": [
    {
     "name": "stdout",
     "output_type": "stream",
     "text": [
      "Index(['likes', 'year', 'month', 'day', 'chennel', 'local', 'restaurant_type',\n",
      "       'guest_info', 'food_scenes', 'eating_scenes', 'drinking_scene',\n",
      "       'restaurant_info_scene', 'conversation_scene', 'run_time'],\n",
      "      dtype='object')\n"
     ]
    }
   ],
   "source": [
    "# title 은 의미가 없어서 제외시켰음 스크립트는 처리하기 어려워 보여 제외하였음\n",
    "x = data.drop(columns=['title','views','script'])\n",
    "y = data['views']\n",
    "print(x.columns)"
   ]
  },
  {
   "cell_type": "code",
   "execution_count": 5,
   "metadata": {},
   "outputs": [
    {
     "name": "stdout",
     "output_type": "stream",
     "text": [
      "[0 1 2]\n",
      "[ 8  1 13  9  3  6 10 12  2  5 11  7  4  0]\n",
      "[25  2 42 39 47 52 11 14 31 45 38 40 27 59 48 36 35 21 46 56 60  8 58  9\n",
      " 24 37 54 33 44 43 41 34 28 20 23 50 51 30 18 17 53 19 29 12 32 26 57 16\n",
      " 49 55 15 22  6  1  3  0  4  5 10  7 13]\n"
     ]
    }
   ],
   "source": [
    "from sklearn.preprocessing import LabelEncoder\n",
    "# 범주형 데이터들 label encoding\n",
    "\n",
    "def label_encode(data):\n",
    "    lbe = LabelEncoder()\n",
    "    data['guest_info'] = lbe.fit_transform(data['guest_info'])\n",
    "    data['restaurant_type'] = lbe.fit_transform(data['restaurant_type'])\n",
    "    data['local'] = lbe.fit_transform(data['local'])\n",
    "    return data\n",
    "\n",
    "x = label_encode(x)\n",
    "print(x['guest_info'].unique())\n",
    "print(x['restaurant_type'].unique())\n",
    "print(x['local'].unique())"
   ]
  },
  {
   "cell_type": "code",
   "execution_count": 6,
   "metadata": {},
   "outputs": [
    {
     "name": "stdout",
     "output_type": "stream",
     "text": [
      "Index(['likes', 'year', 'month', 'day', 'chennel', 'local', 'restaurant_type',\n",
      "       'guest_info', 'food_scenes', 'eating_scenes', 'drinking_scene',\n",
      "       'restaurant_info_scene', 'conversation_scene', 'run_time'],\n",
      "      dtype='object')\n",
      "0.8001083654386769\n",
      "[0.88156694 0.01597281 0.00528303 0.014272   0.01171418 0.01407101\n",
      " 0.00792909 0.00532649 0.00121375 0.00112446 0.00354539 0.00545559\n",
      " 0.0209172  0.01160807]\n"
     ]
    }
   ],
   "source": [
    "from sklearn.model_selection import train_test_split\n",
    "from sklearn.ensemble import RandomForestRegressor\n",
    "# RandomForest 모델을 사용할 것이므로 정규화는 따로 하지 않았음\n",
    "# 데이터가 적어 학습 시 shuffle 에 따라 score 가 크게 변함\n",
    "def model(x,y):\n",
    "    x_train,x_test,y_train,y_test = train_test_split(x,y,test_size=0.2)\n",
    "\n",
    "    rfr = RandomForestRegressor()\n",
    "    rfr.fit(x_train,y_train)\n",
    "\n",
    "    print(rfr.score(x_test,y_test))\n",
    "    print(rfr.feature_importances_)\n",
    "\n",
    "print(x.columns)\n",
    "model(x,y)"
   ]
  },
  {
   "cell_type": "code",
   "execution_count": 7,
   "metadata": {},
   "outputs": [
    {
     "data": {
      "text/plain": [
       "<Axes: >"
      ]
     },
     "execution_count": 7,
     "metadata": {},
     "output_type": "execute_result"
    },
    {
     "data": {
      "image/png": "[encoded data removed]",
      "text/plain": [
       "<Figure size 800x600 with 2 Axes>"
      ]
     },
     "metadata": {},
     "output_type": "display_data"
    }
   ],
   "source": [
    "import seaborn as sns\n",
    "import matplotlib.pyplot as plt\n",
    "\n",
    "# likes 에 너무 많은 영향을 받고 likes 는 동영상을 올린다고 가정할 때 바로 알 수 없는 데이터 이므로 제외 하였음\n",
    "plt.figure(figsize=(8,6))\n",
    "sns.heatmap(data[['views','likes','chennel']].corr(),cmap='Blues',annot=True,fmt='.1f')"
   ]
  },
  {
   "cell_type": "code",
   "execution_count": 8,
   "metadata": {},
   "outputs": [
    {
     "name": "stdout",
     "output_type": "stream",
     "text": [
      "Index(['year', 'month', 'day', 'chennel', 'local', 'restaurant_type',\n",
      "       'guest_info', 'food_scenes', 'eating_scenes', 'drinking_scene',\n",
      "       'restaurant_info_scene', 'conversation_scene', 'run_time'],\n",
      "      dtype='object')\n",
      "0.4937960083673386\n",
      "[0.10532075 0.06705976 0.04283314 0.31848108 0.07400446 0.03552461\n",
      " 0.16719108 0.0120804  0.0059883  0.03826301 0.00910566 0.01741422\n",
      " 0.10673353]\n"
     ]
    }
   ],
   "source": [
    "print(x.drop(columns=['likes']).columns)\n",
    "model(x.drop(columns=['likes']),y)"
   ]
  },
  {
   "cell_type": "code",
   "execution_count": 9,
   "metadata": {},
   "outputs": [],
   "source": [
    "ch_0 = data[data['chennel']==0].sort_values(by='views')\n",
    "ch_1 = data[data['chennel']==1].sort_values(by='views')"
   ]
  },
  {
   "cell_type": "code",
   "execution_count": 10,
   "metadata": {},
   "outputs": [
    {
     "name": "stdout",
     "output_type": "stream",
     "text": [
      "                                                 title  likes     views  \\\n",
      "169  미공개컷 | 공연 중에도 배고픈 최자의 공연 전 간단한 보양식 만두! | 더밥스튜디...   1200   92693.0   \n",
      "208  최자로드7 EP.6 | 돼지들의 낮술은 밥술이라고 봐. 제주 햇볕을 시원하게 식혀줄...    470  130166.0   \n",
      "227         롱타임노소고기(LTNS) 안재홍과 육즙 넘치는 대화💦💦 | 최자로드8 최종화   1200  137987.0   \n",
      "224  오늘 태국 여행어때? 미뢰를 자극하는 하이엔드 타이푸드(ft.모니카) | 최자로드8...    702  156582.0   \n",
      "159     EP.4 햄버거 | 버거때문에 결성된 CB MASS? | 더밥스튜디오 | 최자로드3   1300  164273.0   \n",
      "211  최자로드7 EP.3 | 최(자 제)주도에 오면 닭고기 샤브샤브는 꼭 먹어야 한다고 ...    752  177067.0   \n",
      "180  최자로드5 EP.16 | 힘 좋은 갯벌장어와 참복 코스 스페셜 (feat. 핫펠트,...   1000  189385.0   \n",
      "151   제주도 오리전골 + 남미 음식 ft.제주맥주 | 더밥스튜디오 | 최자로드2 X 제주맥주   1300  189624.0   \n",
      "218  기(氣)가 찬 맛! 산이 통째로 들어간 약초백숙 w/개코, dj friz | 최자로...   1000  196725.0   \n",
      "206  최자로드7 EP.8 | 낯설지만 익숙한 맛, 한국인이라면 누구나 좋아할 떡볶이 레벨...    716  200275.0   \n",
      "\n",
      "       year  month   day                                             script  \\\n",
      "169  2020.0   11.0   5.0  ['먹는 것만큼 자본이 적이 없는걸 아는데 말이야 이제 게임 엠마우스 기법', '확...   \n",
      "208  2022.0    9.0  22.0  ['일단 장난 아니지 잔치 직전이지', '지금 미칠 것 같아', '[음악]', '일...   \n",
      "227  2024.0    1.0  18.0  ['롱타임', '노섹스 섹스 계 섹스 죽 같아요', 'ltns면 꼭 와야', '[음...   \n",
      "224  2023.0   12.0  14.0  ['우와 이거 뭐야 와 대박 어머 소리가 왜 이래 이게 무슨 면이 와 이거 뭐예요 ...   \n",
      "159  2020.0    5.0  29.0  ['Shall we try the other burgers?', 'So, those...   \n",
      "211  2022.0    8.0  11.0  ['오', '예', '으', '너무 식탁 다리 곱게 짠', 'or', '라이브 해 ...   \n",
      "180  2021.0   12.0   9.0                                                 []   \n",
      "151  2019.0    8.0  28.0  ['인체 주 근데 얘가 진짜 제주도로 좋아하거든요', '이 자주 거라는 소문 바다가...   \n",
      "218  2023.0    8.0  10.0  ['이제는 슬슬 골동품이 냄새가 나는', '건물 자체가', '낡음의 단계를 지나서 ...   \n",
      "206  2022.0   10.0   6.0  ['배고파', '배고파 너무 고파 아 미치겠다', '여기까지 들어오는게 테스트야 여...   \n",
      "\n",
      "     chennel   local restaurant_type guest_info  food_scenes  eating_scenes  \\\n",
      "169      1.0  서울 용산구              중식        연예인          0.0            0.0   \n",
      "208      1.0  제주 제주시         백반·죽·국수         없음          0.0            0.0   \n",
      "227      1.0  서울 강남구           고기·구이        연예인          0.0            0.0   \n",
      "224      1.0  서울 강남구             아시안        연예인          3.0            2.0   \n",
      "159      1.0  서울 강남구           패스트푸드        일반인          1.0            0.0   \n",
      "211      1.0  제주 제주시           고기·구이        연예인          0.0            0.0   \n",
      "180      1.0  서울 서초구        돈까스·회·일식        연예인          1.0            0.0   \n",
      "151      1.0     제주시          찜·탕·찌개         없음          0.0            0.0   \n",
      "218      1.0  서울 성동구              한식        연예인          0.0            0.0   \n",
      "206      1.0  제주 제주시           고기·구이         없음          0.0            0.0   \n",
      "\n",
      "     drinking_scene  restaurant_info_scene  conversation_scene  run_time  \n",
      "169             0.0                    0.0                 1.0       204  \n",
      "208             0.0                    0.0                 1.0       981  \n",
      "227             0.0                    0.0                 1.0      1710  \n",
      "224             0.0                    0.0                 1.0      1807  \n",
      "159             0.0                    0.0                 1.0       677  \n",
      "211             0.0                    1.0                 0.0      1209  \n",
      "180             0.0                    0.0                 1.0      1398  \n",
      "151             0.0                    0.0                 0.0      1268  \n",
      "218             0.0                    0.0                 2.0      1359  \n",
      "206             0.0                    0.0                 1.0      1092  \n"
     ]
    }
   ],
   "source": [
    "# 먹을텐데는 날짜에 따라 조회수가 상승하는 경향이 있는 것 같고 최자로드는 줄어드는 경향이 있는 것 같음\n",
    "# 추후 날짜 데이터를 처리하고 그래프등의 방법으로 확인 해보아야함\n",
    "print(ch_1.head(10))"
   ]
  },
  {
   "cell_type": "code",
   "execution_count": null,
   "metadata": {},
   "outputs": [],
   "source": []
  }
 ],
 "metadata": {
  "kernelspec": {
   "display_name": "tensorflow",
   "language": "python",
   "name": "python3"
  },
  "language_info": {
   "codemirror_mode": {
    "name": "ipython",
    "version": 3
   },
   "file_extension": ".py",
   "mimetype": "text/x-python",
   "name": "python",
   "nbconvert_exporter": "python",
   "pygments_lexer": "ipython3",
   "version": "3.11.9"
  }
 },
 "nbformat": 4,
 "nbformat_minor": 2
}
